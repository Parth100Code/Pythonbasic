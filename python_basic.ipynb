{
  "nbformat": 4,
  "nbformat_minor": 0,
  "metadata": {
    "colab": {
      "provenance": [],
      "toc_visible": true
    },
    "kernelspec": {
      "name": "python3",
      "display_name": "Python 3"
    },
    "language_info": {
      "name": "python"
    }
  },
  "cells": [
    {
      "cell_type": "code",
      "execution_count": null,
      "metadata": {
        "id": "NiG_bx4pGUic"
      },
      "outputs": [],
      "source": [
        "#Python Basic Assignment (theory)"
      ]
    },
    {
      "cell_type": "markdown",
      "source": [
        "# Python Basic Assignment\n",
        "\n",
        "1. What it python and why it is so popular ?\n",
        "\n",
        "  Ans - Python is a high level programing language. We use python for making web application, data analysis , software development . It is made in 1990s and it is  simple to use.\n",
        "  Python is popular because\n",
        "  a. It is user friendly and its syntax is easy.\n",
        "  b. It is machine independent can be used on any operating system like ( mac , windows , linux etc)\n",
        "  c. It is widely used such as in data science, big data , web scrappign and in the AI. italicised text\n",
        "\n",
        "2. What is interpreter in pyton ?\n",
        "\n",
        "  Ans - The Python interpreter is a program that executes Python code by reading it line-by-line. It converts the human-readable Python code into machine-readable instructions through an intermediate bytecode, which is then run by the Python Virtual Machine (PVM). This process allows Python code to run on different platforms without the need for compilation.\n",
        "\n",
        "3. What is predefined key words in python?\n",
        "\n",
        "  Ans- Keywords are the set of words defined in the python that are inbuilt in python for performoring different things in python . for example - if , elif , false , while , import etc.\n",
        "\n",
        "4. Can key words be used as variables name ?\n",
        "\n",
        "  Ans- No, key words can't be used as variables name. it will give the syntax error if we use the keywords as the variables name.\n",
        "\n",
        "5. What is mutablity in python ?\n",
        "\n",
        "  Ans -  In python mutablity means that we can change the oject or variable after its assignment . for example - list , dictionary , sets etc.\n",
        "\n",
        "6. Why is list mutable and touple are imutable ?\n",
        "\n",
        "  Ans- list are mutable becasue we can can the list after its assignment and in the touple it is not possible to change the things after its operations. list are flexible and on the other hand if we talk about touple are rigid and data integrity and security is there.\n",
        "\n",
        "7. what is difference between \"==\" and is operator in python?\n",
        "\n",
        "  Ans- \"==\" operater is the comparasion operater used in python . and is operator is used to check the ideity of the memory alocation of the variable . do the two variables belong to the same memory or not.\n",
        "\n",
        "8. What is logical operator in python?\n",
        "\n",
        "  Ans-  Logica operator in python is used for the logical operatios . for example- and operator , or operator , not operator etc . it works on true and false.\n",
        "\n",
        "9. What is type casting in python?\n",
        "\n",
        " Ans - Type casting is used to convert one data type into the another data type. they are of two types implict data type or explicit data type . implit works automatically but explicit data type works manually.\n",
        "\n",
        "10. What is difference between implicit and explicit data type?\n",
        "\n",
        "  Ans- Implicit Type Casting (Automatic Type Conversion) example x=2 y=3.5 print(x+y) output- 5.5\n",
        "  Explicit Type Casting (Manual Type Conversion) . example x=3.4 y=int(x) print (y) - output - 3\n",
        "\n",
        "11. What is the purpose of the condition statement in python?\n",
        "\n",
        "  Ans - Condition statement is used to give the condtion in the python lanuage. for example if , elif, else .\n",
        "  They are used two identify thing will happen or that thing will happen.\n",
        "\n",
        "12. How does elif statement works ?\n",
        "\n",
        "  Ans - elif statement are used when we have multiple condition .\n",
        "  for example -\n",
        "  if marks <=33\n",
        "  print(\"fail\")\n",
        "  elif marks >33<=50\n",
        "  print (\"average\")\n",
        "  elif\n",
        "  print(goood)\n",
        "\n",
        "13. what is the difference between for and while loop ?\n",
        "\n",
        "  Ans - for loop is used when we know how many time we have to run the loop and in the while loop the loops works until the condition is true.\n",
        "\n",
        "14. Describe where while loop is more suitable than the for loop.\n",
        "\n",
        "  Ans - we used the whiel loop where we don't now how much time we have to run the code. It is used best when you don’t know the number of iterations, but you know a condition that will eventually stop the loop.\n",
        "\n",
        "\n"
      ],
      "metadata": {
        "id": "dYjN61dkKh1Y"
      }
    },
    {
      "cell_type": "code",
      "source": [
        "from google.colab import drive\n",
        "drive.mount('/content/drive')"
      ],
      "metadata": {
        "id": "QNX-bWAkx9IG"
      },
      "execution_count": null,
      "outputs": []
    },
    {
      "cell_type": "code",
      "source": [],
      "metadata": {
        "id": "hGLxv1Uvxu0w"
      },
      "execution_count": null,
      "outputs": []
    },
    {
      "cell_type": "code",
      "source": [
        "#Practical questions and answers"
      ],
      "metadata": {
        "id": "jzsfZZM-kW-c"
      },
      "execution_count": null,
      "outputs": []
    },
    {
      "cell_type": "code",
      "source": [],
      "metadata": {
        "id": "lDy_Wz_ToHBG"
      },
      "execution_count": null,
      "outputs": []
    },
    {
      "cell_type": "code",
      "source": [
        "# 1. Write a program to print hello world\n",
        "print(\"Hello World\")"
      ],
      "metadata": {
        "colab": {
          "base_uri": "https://localhost:8080/"
        },
        "id": "-XTkwIkdkfvr",
        "outputId": "130ef83a-7be9-469d-988a-c2f3758e888d"
      },
      "execution_count": 1,
      "outputs": [
        {
          "output_type": "stream",
          "name": "stdout",
          "text": [
            "Hello World\n"
          ]
        }
      ]
    },
    {
      "cell_type": "code",
      "source": [
        "#2. WAP display name and your age ?\n",
        "print(\"My name is Parth\")\n",
        "print(\"My age is 21\")"
      ],
      "metadata": {
        "colab": {
          "base_uri": "https://localhost:8080/"
        },
        "id": "wpR_e_7Ykn-L",
        "outputId": "5dcce2a9-ff47-464f-a582-27a1a786573d"
      },
      "execution_count": 2,
      "outputs": [
        {
          "output_type": "stream",
          "name": "stdout",
          "text": [
            "My name is Parth\n",
            "My age is 21\n"
          ]
        }
      ]
    },
    {
      "cell_type": "code",
      "source": [
        "# 3. WAP to print all the pre defined keywords in the python using keyword library .\n",
        "import keyword\n",
        "keywords = keyword.kwlist\n",
        "print(keywords)"
      ],
      "metadata": {
        "colab": {
          "base_uri": "https://localhost:8080/"
        },
        "id": "kjEITer6lATQ",
        "outputId": "8128dc8e-6ea7-43b2-be38-0f7d43e1cd98"
      },
      "execution_count": 4,
      "outputs": [
        {
          "output_type": "stream",
          "name": "stdout",
          "text": [
            "['False', 'None', 'True', 'and', 'as', 'assert', 'async', 'await', 'break', 'class', 'continue', 'def', 'del', 'elif', 'else', 'except', 'finally', 'for', 'from', 'global', 'if', 'import', 'in', 'is', 'lambda', 'nonlocal', 'not', 'or', 'pass', 'raise', 'return', 'try', 'while', 'with', 'yield']\n"
          ]
        }
      ]
    },
    {
      "cell_type": "code",
      "source": [
        "#4. WAP to check weather a given word is in a python keyword\n",
        "import keyword\n",
        "word=input(\"enter a word to check it is a keyword or not\")\n",
        "if keyword.iskeyword(word):\n",
        "  print(\"you entered a  keyword\")\n",
        "else:\n",
        "  print(\"you don't entered a keyword\")"
      ],
      "metadata": {
        "colab": {
          "base_uri": "https://localhost:8080/"
        },
        "id": "uKQ4c013l4wo",
        "outputId": "18384371-5532-4c61-b937-9e42cb1d456f"
      },
      "execution_count": 10,
      "outputs": [
        {
          "output_type": "stream",
          "name": "stdout",
          "text": [
            "enter a word to check it is a keyword or nothhh\n",
            "you don't entered a keyword\n"
          ]
        }
      ]
    },
    {
      "cell_type": "code",
      "source": [
        "#5. create a list and touple in python and dememonstrate how attempting to change and element in python words differently.\n",
        "list =[1,2,3,4,5]\n",
        "print(list)\n",
        "list[2]=10\n",
        "print (\"the changed list is as\",list)\n",
        "\"\"\"touple=(1,2,3,4,5)\n",
        "print(touple)\n",
        "touple[2]=10\n",
        "print(\"the changed touple is as\",touple)\"\"\" # if we execute the touple it will give error"
      ],
      "metadata": {
        "colab": {
          "base_uri": "https://localhost:8080/",
          "height": 71
        },
        "id": "HanfU0KYoIT9",
        "outputId": "a2026ff5-58d2-400a-eaf2-cc3c6b9ebeac"
      },
      "execution_count": 15,
      "outputs": [
        {
          "output_type": "stream",
          "name": "stdout",
          "text": [
            "[1, 2, 3, 4, 5]\n",
            "the changed list is as [1, 2, 10, 4, 5]\n"
          ]
        },
        {
          "output_type": "execute_result",
          "data": {
            "text/plain": [
              "'touple=(1,2,3,4,5)\\nprint(touple)\\ntouple[2]=10\\nprint(\"the changed touple is as\",touple)'"
            ],
            "application/vnd.google.colaboratory.intrinsic+json": {
              "type": "string"
            }
          },
          "metadata": {},
          "execution_count": 15
        }
      ]
    },
    {
      "cell_type": "code",
      "source": [
        "#6. write a funtion to demenostrate the behavior of mutable and immutable arguments\n",
        "def demo_mutable_immutable():\n",
        "    # Immutable argument (integer)\n",
        "    def immutable_example(x):\n",
        "        print(f\"Before modification inside function: {x}\")\n",
        "        x = 10  # Changing the value of x will not affect the original variable\n",
        "        print(f\"After modification inside function: {x}\")\n",
        "\n",
        "    # Mutable argument (list)\n",
        "    def mutable_example(lst):\n",
        "        print(f\"Before modification inside function: {lst}\")\n",
        "        lst[0] = 100  # Changing the first element of the list will affect the original list\n",
        "        print(f\"After modification inside function: {lst}\")\n",
        "\n",
        "    # Test with immutable argument (integer)\n",
        "    num = 5\n",
        "    print(\"\\nTesting with immutable argument (integer):\")\n",
        "    print(f\"Before function call: {num}\")\n",
        "    immutable_example(num)\n",
        "    print(f\"After function call: {num}\")  # Original value remains unchanged\n",
        "\n",
        "    # Test with mutable argument (list)\n",
        "    my_list = [1, 2, 3, 4]\n",
        "    print(\"\\nTesting with mutable argument (list):\")\n",
        "    print(f\"Before function call: {my_list}\")\n",
        "    mutable_example(my_list)\n",
        "    print(f\"After function call: {my_list}\")  # Original list is modified\n",
        "\n",
        "# Call the function to demonstrate mutable and immutable argument behavior\n",
        "demo_mutable_immutable()\n"
      ],
      "metadata": {
        "colab": {
          "base_uri": "https://localhost:8080/"
        },
        "id": "R2M4KvERpVxA",
        "outputId": "c9be7965-4325-4488-9df0-702f105c0285"
      },
      "execution_count": 17,
      "outputs": [
        {
          "output_type": "stream",
          "name": "stdout",
          "text": [
            "\n",
            "Testing with immutable argument (integer):\n",
            "Before function call: 5\n",
            "Before modification inside function: 5\n",
            "After modification inside function: 10\n",
            "After function call: 5\n",
            "\n",
            "Testing with mutable argument (list):\n",
            "Before function call: [1, 2, 3, 4]\n",
            "Before modification inside function: [1, 2, 3, 4]\n",
            "After modification inside function: [100, 2, 3, 4]\n",
            "After function call: [100, 2, 3, 4]\n"
          ]
        }
      ]
    },
    {
      "cell_type": "code",
      "source": [
        "#7. write a funtion to demenostrate the behavior of mutable and immutable arguments\n",
        "def demo_mutable_immutable():\n",
        "    # Immutable argument (integer)\n",
        "    def immutable_example(x):\n",
        "        print(f\"Before modification inside function: {x}\")\n",
        "        x = 10  # Changing the value of x will not affect the original variable\n",
        "        print(f\"After modification inside function: {x}\")\n",
        "\n",
        "    # Mutable argument (list)\n",
        "    def mutable_example(lst):\n",
        "        print(f\"Before modification inside function: {lst}\")\n",
        "        lst[0] = 100  # Changing the first element of the list will affect the original list\n",
        "        print(f\"After modification inside function: {lst}\")\n",
        "\n",
        "    # Test with immutable argument (integer)\n",
        "    num = 5\n",
        "    print(\"\\nTesting with immutable argument (integer):\")\n",
        "    print(f\"Before function call: {num}\")\n",
        "    immutable_example(num)\n",
        "    print(f\"After function call: {num}\")  # Original value remains unchanged\n",
        "\n",
        "    # Test with mutable argument (list)\n",
        "    my_list = [1, 2, 3, 4]\n",
        "    print(\"\\nTesting with mutable argument (list):\")\n",
        "    print(f\"Before function call: {my_list}\")\n",
        "    mutable_example(my_list)\n",
        "    print(f\"After function call: {my_list}\")  # Original list is modified\n",
        "\n",
        "# Call the function to demonstrate mutable and immutable argument behavior\n",
        "demo_mutable_immutable()\n"
      ],
      "metadata": {
        "id": "eKDJBAWPrrkP"
      },
      "execution_count": null,
      "outputs": []
    },
    {
      "cell_type": "code",
      "source": [
        "8. #Write a python program to demonasted the use of logical operators\n",
        "\n",
        "# Initialize two variables\n",
        "a = 10\n",
        "b = 5\n",
        "\n",
        "# Using 'and' operator\n",
        "if a > 5 and b < 10:\n",
        "    print(\"Both conditions are true: a > 5 and b < 10\")\n",
        "else:\n",
        "    print(\"Both conditions are not true\")\n",
        "\n",
        "# Using 'or' operator\n",
        "if a > 5 or b > 10:\n",
        "    print(\"At least one condition is true: a > 5 or b > 10\")\n",
        "else:\n",
        "    print(\"Neither condition is true\")\n",
        "\n",
        "# Using 'not' operator\n",
        "if not a == b:\n",
        "    print(\"a is not equal to b\")\n",
        "else:\n",
        "    print(\"a is equal to b\")\n",
        "\n"
      ],
      "metadata": {
        "colab": {
          "base_uri": "https://localhost:8080/"
        },
        "id": "YVUgNvEwr24s",
        "outputId": "9d5413a6-62be-449b-b563-8377e51f6521"
      },
      "execution_count": 18,
      "outputs": [
        {
          "output_type": "stream",
          "name": "stdout",
          "text": [
            "Both conditions are true: a > 5 and b < 10\n",
            "At least one condition is true: a > 5 or b > 10\n",
            "a is not equal to b\n"
          ]
        }
      ]
    },
    {
      "cell_type": "code",
      "source": [
        "# 9.WAP to convert user input from  string to int , flot , boolean types\n",
        "# Taking user string input\n",
        "string = input(\"Enter a value: \")\n",
        "\n",
        "# Convert to integer\n",
        "int_value = int(string)\n",
        "print(\"Converted to int:\", int_value)\n",
        "\n",
        "# Convert to float\n",
        "float_value = float(string)\n",
        "print(\"Converted to float:\", float_value)\n",
        "\n",
        "# Convert to boolean\n",
        "bool_value = bool(string)\n",
        "print(\"Converted to boolean:\", bool_value)\n"
      ],
      "metadata": {
        "colab": {
          "base_uri": "https://localhost:8080/"
        },
        "id": "Hy7t__gos21H",
        "outputId": "3935b329-a3ae-4f63-add4-33bfd13c17a7"
      },
      "execution_count": 20,
      "outputs": [
        {
          "output_type": "stream",
          "name": "stdout",
          "text": [
            "Enter a value: 4\n",
            "Converted to int: 4\n",
            "Converted to float: 4.0\n",
            "Converted to boolean: True\n"
          ]
        }
      ]
    },
    {
      "cell_type": "code",
      "source": [
        "#10. WAP to demenostrate type casting in list\n",
        "\n",
        "original_list = ['1', '2', '3.5', '4.8']\n",
        "# Convert all elements to floats\n",
        "float_list = [float(x) for x in original_list]\n",
        "# Print the results\n",
        "print(\"Original List:\", original_list)\n",
        "\n",
        "print(\"Converted to Floats:\", float_list)\n",
        "\n"
      ],
      "metadata": {
        "colab": {
          "base_uri": "https://localhost:8080/"
        },
        "id": "23iSchJkt3wl",
        "outputId": "16942758-8f09-4d33-9615-15fb0a7792d7"
      },
      "execution_count": 22,
      "outputs": [
        {
          "output_type": "stream",
          "name": "stdout",
          "text": [
            "Original List: ['1', '2', '3.5', '4.8']\n",
            "Converted to Floats: [1.0, 2.0, 3.5, 4.8]\n"
          ]
        }
      ]
    },
    {
      "cell_type": "code",
      "source": [
        "11. #WAP to check weather a number is posative , negative or zero\n",
        "\n",
        "num = float(input(\"Enter a number: \"))\n",
        "\n",
        "if num > 0:\n",
        "    print(\"The number is positive.\")\n",
        "elif num < 0:\n",
        "    print(\"The number is negative.\")\n",
        "else:\n",
        "    print(\"The number is zero.\")"
      ],
      "metadata": {
        "colab": {
          "base_uri": "https://localhost:8080/"
        },
        "id": "37P_zmVdu1RQ",
        "outputId": "b43c875a-0e27-47b4-c33e-2d409a5e69fb"
      },
      "execution_count": 23,
      "outputs": [
        {
          "output_type": "stream",
          "name": "stdout",
          "text": [
            "Enter a number: 9\n",
            "The number is positive.\n"
          ]
        }
      ]
    },
    {
      "cell_type": "code",
      "source": [
        "12. # WAP to print numbers from 1 to 10 using for loop\n",
        "for i in range(1, 11):\n",
        "    print(i)"
      ],
      "metadata": {
        "colab": {
          "base_uri": "https://localhost:8080/"
        },
        "id": "bBFmLtWavKyk",
        "outputId": "ec38bf1d-1269-4e3c-c4e6-80b4949026ff"
      },
      "execution_count": 24,
      "outputs": [
        {
          "output_type": "stream",
          "name": "stdout",
          "text": [
            "1\n",
            "2\n",
            "3\n",
            "4\n",
            "5\n",
            "6\n",
            "7\n",
            "8\n",
            "9\n",
            "10\n"
          ]
        }
      ]
    },
    {
      "cell_type": "code",
      "source": [
        "# 13.WAP to find the sum of all teh even numbers between 1 and 50.\n",
        "# Initialize the sum variable\n",
        "sum_even = 0\n",
        "\n",
        "# Loop through numbers from 1 to 50\n",
        "for num in range(1, 51):\n",
        "    if num % 2 == 0:  # Check if the number is even\n",
        "        sum_even = num + sum_even # Add the even number to the sum\n",
        "\n",
        "# Print the result\n",
        "print(\"The sum of all even numbers between 1 and 50 is:\", sum_even)\n",
        "\n"
      ],
      "metadata": {
        "colab": {
          "base_uri": "https://localhost:8080/"
        },
        "id": "LgeqRBejvkh-",
        "outputId": "d30e6fd4-7fc2-46d7-a4ec-09645e5b6f60"
      },
      "execution_count": 25,
      "outputs": [
        {
          "output_type": "stream",
          "name": "stdout",
          "text": [
            "The sum of all even numbers between 1 and 50 is: 650\n"
          ]
        }
      ]
    },
    {
      "cell_type": "code",
      "source": [
        "#14. WAP to reverse a string using a while loop\n",
        "# Input string from the user\n",
        "input_string = input(\"Enter a string: \")\n",
        "\n",
        "# Initialize an empty string to store the reversed string\n",
        "reversed_string = \"\"\n",
        "\n",
        "# Start from the last character and move backwards\n",
        "index = len(input_string) - 1\n",
        "\n",
        "# Use a while loop to reverse the string\n",
        "while index >= 0:\n",
        "    reversed_string += input_string[index]\n",
        "    index -= 1\n",
        "\n",
        "# Print the reversed string\n",
        "print(\"Reversed string:\", reversed_string)\n"
      ],
      "metadata": {
        "colab": {
          "base_uri": "https://localhost:8080/"
        },
        "id": "L95NZBSywSEF",
        "outputId": "59bfd985-ca71-4104-f562-0379432a6e9f"
      },
      "execution_count": 26,
      "outputs": [
        {
          "output_type": "stream",
          "name": "stdout",
          "text": [
            "Enter a string: ram\n",
            "Reversed string: mar\n"
          ]
        }
      ]
    },
    {
      "cell_type": "code",
      "source": [
        "#15. WAP to find the factorial of a program using while loop.\n",
        "# Input number from the user\n",
        "num = int(input(\"Enter a number: \"))\n",
        "\n",
        "# Initialize the factorial variable\n",
        "factorial = 1\n",
        "\n",
        "# Using while loop to calculate the factorial\n",
        "while num > 0:\n",
        "    factorial = num * factorial # Multiply factorial by current number\n",
        "    num -= 1           # Decrease the number by 1\n",
        "\n",
        "# Print the factorial\n",
        "print(\"Factorial is:\", factorial)\n"
      ],
      "metadata": {
        "colab": {
          "base_uri": "https://localhost:8080/"
        },
        "id": "zp3rwUedw4Q0",
        "outputId": "af85fceb-84da-4bc6-802e-c1287501aba8"
      },
      "execution_count": 28,
      "outputs": [
        {
          "output_type": "stream",
          "name": "stdout",
          "text": [
            "Enter a number: 3\n",
            "Factorial is: 6\n"
          ]
        }
      ]
    }
  ]
}